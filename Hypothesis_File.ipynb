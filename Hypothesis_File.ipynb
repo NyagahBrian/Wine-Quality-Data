{
 "cells": [
  {
   "cell_type": "code",
   "execution_count": 2,
   "id": "127af213",
   "metadata": {},
   "outputs": [],
   "source": [
    "import pandas as pd\n",
    "import numpy as np\n",
    "import scipy.stats as st \n",
    "import matplotlib.pyplot as plt\n",
    "import seaborn as sns\n",
    "from scipy.stats import shapiro, levene, ttest_ind, mannwhitneyu, bartlett\n",
    "import statsmodels.api as sm\n",
    "%matplotlib inline"
   ]
  },
  {
   "cell_type": "code",
   "execution_count": 3,
   "id": "195b745b",
   "metadata": {},
   "outputs": [],
   "source": [
    "# Using the  Wine Quality Dataset, test the claim that Wines with a higher quality rating have \n",
    "# a higher median alcohol content than wines with a lower quality rating."
   ]
  },
  {
   "cell_type": "code",
   "execution_count": 4,
   "id": "cded0b55",
   "metadata": {},
   "outputs": [],
   "source": [
    "# Null Hypothesis H0: The median alcohol content of wines with higher quality ratings is less than or equal to the median alcohol content of wines with lower quality ratings.\n",
    "# Alternative Hypothesis H1: The median alcohol content of wines with higher quality ratings is greater than the median alcohol content of wines with lower quality ratings. "
   ]
  },
  {
   "cell_type": "code",
   "execution_count": 25,
   "id": "8c61f137",
   "metadata": {},
   "outputs": [
    {
     "data": {
      "text/html": [
       "<div>\n",
       "<style scoped>\n",
       "    .dataframe tbody tr th:only-of-type {\n",
       "        vertical-align: middle;\n",
       "    }\n",
       "\n",
       "    .dataframe tbody tr th {\n",
       "        vertical-align: top;\n",
       "    }\n",
       "\n",
       "    .dataframe thead th {\n",
       "        text-align: right;\n",
       "    }\n",
       "</style>\n",
       "<table border=\"1\" class=\"dataframe\">\n",
       "  <thead>\n",
       "    <tr style=\"text-align: right;\">\n",
       "      <th></th>\n",
       "      <th>fixed acidity</th>\n",
       "      <th>volatile acidity</th>\n",
       "      <th>citric acid</th>\n",
       "      <th>residual sugar</th>\n",
       "      <th>chlorides</th>\n",
       "      <th>free sulfur dioxide</th>\n",
       "      <th>total sulfur dioxide</th>\n",
       "      <th>density</th>\n",
       "      <th>pH</th>\n",
       "      <th>sulphates</th>\n",
       "      <th>alcohol</th>\n",
       "      <th>quality</th>\n",
       "    </tr>\n",
       "  </thead>\n",
       "  <tbody>\n",
       "    <tr>\n",
       "      <th>0</th>\n",
       "      <td>7.4</td>\n",
       "      <td>0.70</td>\n",
       "      <td>0.00</td>\n",
       "      <td>1.9</td>\n",
       "      <td>0.076</td>\n",
       "      <td>11.0</td>\n",
       "      <td>34.0</td>\n",
       "      <td>0.9978</td>\n",
       "      <td>3.51</td>\n",
       "      <td>0.56</td>\n",
       "      <td>9.4</td>\n",
       "      <td>5</td>\n",
       "    </tr>\n",
       "    <tr>\n",
       "      <th>1</th>\n",
       "      <td>7.8</td>\n",
       "      <td>0.88</td>\n",
       "      <td>0.00</td>\n",
       "      <td>2.6</td>\n",
       "      <td>0.098</td>\n",
       "      <td>25.0</td>\n",
       "      <td>67.0</td>\n",
       "      <td>0.9968</td>\n",
       "      <td>3.20</td>\n",
       "      <td>0.68</td>\n",
       "      <td>9.8</td>\n",
       "      <td>5</td>\n",
       "    </tr>\n",
       "    <tr>\n",
       "      <th>2</th>\n",
       "      <td>7.8</td>\n",
       "      <td>0.76</td>\n",
       "      <td>0.04</td>\n",
       "      <td>2.3</td>\n",
       "      <td>0.092</td>\n",
       "      <td>15.0</td>\n",
       "      <td>54.0</td>\n",
       "      <td>0.9970</td>\n",
       "      <td>3.26</td>\n",
       "      <td>0.65</td>\n",
       "      <td>9.8</td>\n",
       "      <td>5</td>\n",
       "    </tr>\n",
       "    <tr>\n",
       "      <th>3</th>\n",
       "      <td>11.2</td>\n",
       "      <td>0.28</td>\n",
       "      <td>0.56</td>\n",
       "      <td>1.9</td>\n",
       "      <td>0.075</td>\n",
       "      <td>17.0</td>\n",
       "      <td>60.0</td>\n",
       "      <td>0.9980</td>\n",
       "      <td>3.16</td>\n",
       "      <td>0.58</td>\n",
       "      <td>9.8</td>\n",
       "      <td>6</td>\n",
       "    </tr>\n",
       "    <tr>\n",
       "      <th>4</th>\n",
       "      <td>7.4</td>\n",
       "      <td>0.70</td>\n",
       "      <td>0.00</td>\n",
       "      <td>1.9</td>\n",
       "      <td>0.076</td>\n",
       "      <td>11.0</td>\n",
       "      <td>34.0</td>\n",
       "      <td>0.9978</td>\n",
       "      <td>3.51</td>\n",
       "      <td>0.56</td>\n",
       "      <td>9.4</td>\n",
       "      <td>5</td>\n",
       "    </tr>\n",
       "  </tbody>\n",
       "</table>\n",
       "</div>"
      ],
      "text/plain": [
       "   fixed acidity  volatile acidity  citric acid  residual sugar  chlorides  \\\n",
       "0            7.4              0.70         0.00             1.9      0.076   \n",
       "1            7.8              0.88         0.00             2.6      0.098   \n",
       "2            7.8              0.76         0.04             2.3      0.092   \n",
       "3           11.2              0.28         0.56             1.9      0.075   \n",
       "4            7.4              0.70         0.00             1.9      0.076   \n",
       "\n",
       "   free sulfur dioxide  total sulfur dioxide  density    pH  sulphates  \\\n",
       "0                 11.0                  34.0   0.9978  3.51       0.56   \n",
       "1                 25.0                  67.0   0.9968  3.20       0.68   \n",
       "2                 15.0                  54.0   0.9970  3.26       0.65   \n",
       "3                 17.0                  60.0   0.9980  3.16       0.58   \n",
       "4                 11.0                  34.0   0.9978  3.51       0.56   \n",
       "\n",
       "   alcohol  quality  \n",
       "0      9.4        5  \n",
       "1      9.8        5  \n",
       "2      9.8        5  \n",
       "3      9.8        6  \n",
       "4      9.4        5  "
      ]
     },
     "execution_count": 25,
     "metadata": {},
     "output_type": "execute_result"
    }
   ],
   "source": [
    "df = pd.read_csv('winequality-red.csv', delimiter =';')\n",
    "df.head()"
   ]
  },
  {
   "cell_type": "code",
   "execution_count": 26,
   "id": "c4c1acc1",
   "metadata": {
    "scrolled": true
   },
   "outputs": [
    {
     "data": {
      "text/html": [
       "<div>\n",
       "<style scoped>\n",
       "    .dataframe tbody tr th:only-of-type {\n",
       "        vertical-align: middle;\n",
       "    }\n",
       "\n",
       "    .dataframe tbody tr th {\n",
       "        vertical-align: top;\n",
       "    }\n",
       "\n",
       "    .dataframe thead th {\n",
       "        text-align: right;\n",
       "    }\n",
       "</style>\n",
       "<table border=\"1\" class=\"dataframe\">\n",
       "  <thead>\n",
       "    <tr style=\"text-align: right;\">\n",
       "      <th></th>\n",
       "      <th>fixed acidity</th>\n",
       "      <th>volatile acidity</th>\n",
       "      <th>citric acid</th>\n",
       "      <th>residual sugar</th>\n",
       "      <th>chlorides</th>\n",
       "      <th>free sulfur dioxide</th>\n",
       "      <th>total sulfur dioxide</th>\n",
       "      <th>density</th>\n",
       "      <th>pH</th>\n",
       "      <th>sulphates</th>\n",
       "      <th>alcohol</th>\n",
       "      <th>quality</th>\n",
       "    </tr>\n",
       "  </thead>\n",
       "  <tbody>\n",
       "    <tr>\n",
       "      <th>0</th>\n",
       "      <td>7.0</td>\n",
       "      <td>0.27</td>\n",
       "      <td>0.36</td>\n",
       "      <td>20.7</td>\n",
       "      <td>0.045</td>\n",
       "      <td>45.0</td>\n",
       "      <td>170.0</td>\n",
       "      <td>1.0010</td>\n",
       "      <td>3.00</td>\n",
       "      <td>0.45</td>\n",
       "      <td>8.8</td>\n",
       "      <td>6</td>\n",
       "    </tr>\n",
       "    <tr>\n",
       "      <th>1</th>\n",
       "      <td>6.3</td>\n",
       "      <td>0.30</td>\n",
       "      <td>0.34</td>\n",
       "      <td>1.6</td>\n",
       "      <td>0.049</td>\n",
       "      <td>14.0</td>\n",
       "      <td>132.0</td>\n",
       "      <td>0.9940</td>\n",
       "      <td>3.30</td>\n",
       "      <td>0.49</td>\n",
       "      <td>9.5</td>\n",
       "      <td>6</td>\n",
       "    </tr>\n",
       "    <tr>\n",
       "      <th>2</th>\n",
       "      <td>8.1</td>\n",
       "      <td>0.28</td>\n",
       "      <td>0.40</td>\n",
       "      <td>6.9</td>\n",
       "      <td>0.050</td>\n",
       "      <td>30.0</td>\n",
       "      <td>97.0</td>\n",
       "      <td>0.9951</td>\n",
       "      <td>3.26</td>\n",
       "      <td>0.44</td>\n",
       "      <td>10.1</td>\n",
       "      <td>6</td>\n",
       "    </tr>\n",
       "    <tr>\n",
       "      <th>3</th>\n",
       "      <td>7.2</td>\n",
       "      <td>0.23</td>\n",
       "      <td>0.32</td>\n",
       "      <td>8.5</td>\n",
       "      <td>0.058</td>\n",
       "      <td>47.0</td>\n",
       "      <td>186.0</td>\n",
       "      <td>0.9956</td>\n",
       "      <td>3.19</td>\n",
       "      <td>0.40</td>\n",
       "      <td>9.9</td>\n",
       "      <td>6</td>\n",
       "    </tr>\n",
       "    <tr>\n",
       "      <th>4</th>\n",
       "      <td>7.2</td>\n",
       "      <td>0.23</td>\n",
       "      <td>0.32</td>\n",
       "      <td>8.5</td>\n",
       "      <td>0.058</td>\n",
       "      <td>47.0</td>\n",
       "      <td>186.0</td>\n",
       "      <td>0.9956</td>\n",
       "      <td>3.19</td>\n",
       "      <td>0.40</td>\n",
       "      <td>9.9</td>\n",
       "      <td>6</td>\n",
       "    </tr>\n",
       "  </tbody>\n",
       "</table>\n",
       "</div>"
      ],
      "text/plain": [
       "   fixed acidity  volatile acidity  citric acid  residual sugar  chlorides  \\\n",
       "0            7.0              0.27         0.36            20.7      0.045   \n",
       "1            6.3              0.30         0.34             1.6      0.049   \n",
       "2            8.1              0.28         0.40             6.9      0.050   \n",
       "3            7.2              0.23         0.32             8.5      0.058   \n",
       "4            7.2              0.23         0.32             8.5      0.058   \n",
       "\n",
       "   free sulfur dioxide  total sulfur dioxide  density    pH  sulphates  \\\n",
       "0                 45.0                 170.0   1.0010  3.00       0.45   \n",
       "1                 14.0                 132.0   0.9940  3.30       0.49   \n",
       "2                 30.0                  97.0   0.9951  3.26       0.44   \n",
       "3                 47.0                 186.0   0.9956  3.19       0.40   \n",
       "4                 47.0                 186.0   0.9956  3.19       0.40   \n",
       "\n",
       "   alcohol  quality  \n",
       "0      8.8        6  \n",
       "1      9.5        6  \n",
       "2     10.1        6  \n",
       "3      9.9        6  \n",
       "4      9.9        6  "
      ]
     },
     "execution_count": 26,
     "metadata": {},
     "output_type": "execute_result"
    }
   ],
   "source": [
    "dfw = pd.read_csv('winequality-white.csv', delimiter =';')\n",
    "dfw.head()"
   ]
  },
  {
   "cell_type": "code",
   "execution_count": 7,
   "id": "cc3bec5c",
   "metadata": {},
   "outputs": [],
   "source": [
    "# We will use the wine quality for Red wine to do the test"
   ]
  },
  {
   "cell_type": "code",
   "execution_count": 8,
   "id": "d874bbae",
   "metadata": {},
   "outputs": [
    {
     "data": {
      "text/html": [
       "<div>\n",
       "<style scoped>\n",
       "    .dataframe tbody tr th:only-of-type {\n",
       "        vertical-align: middle;\n",
       "    }\n",
       "\n",
       "    .dataframe tbody tr th {\n",
       "        vertical-align: top;\n",
       "    }\n",
       "\n",
       "    .dataframe thead th {\n",
       "        text-align: right;\n",
       "    }\n",
       "</style>\n",
       "<table border=\"1\" class=\"dataframe\">\n",
       "  <thead>\n",
       "    <tr style=\"text-align: right;\">\n",
       "      <th></th>\n",
       "      <th>quality</th>\n",
       "      <th>alcohol</th>\n",
       "    </tr>\n",
       "  </thead>\n",
       "  <tbody>\n",
       "    <tr>\n",
       "      <th>3</th>\n",
       "      <td>6</td>\n",
       "      <td>9.8</td>\n",
       "    </tr>\n",
       "    <tr>\n",
       "      <th>7</th>\n",
       "      <td>7</td>\n",
       "      <td>10.0</td>\n",
       "    </tr>\n",
       "    <tr>\n",
       "      <th>8</th>\n",
       "      <td>7</td>\n",
       "      <td>9.5</td>\n",
       "    </tr>\n",
       "    <tr>\n",
       "      <th>16</th>\n",
       "      <td>7</td>\n",
       "      <td>10.5</td>\n",
       "    </tr>\n",
       "    <tr>\n",
       "      <th>19</th>\n",
       "      <td>6</td>\n",
       "      <td>9.2</td>\n",
       "    </tr>\n",
       "    <tr>\n",
       "      <th>...</th>\n",
       "      <td>...</td>\n",
       "      <td>...</td>\n",
       "    </tr>\n",
       "    <tr>\n",
       "      <th>1592</th>\n",
       "      <td>6</td>\n",
       "      <td>11.0</td>\n",
       "    </tr>\n",
       "    <tr>\n",
       "      <th>1593</th>\n",
       "      <td>6</td>\n",
       "      <td>9.5</td>\n",
       "    </tr>\n",
       "    <tr>\n",
       "      <th>1595</th>\n",
       "      <td>6</td>\n",
       "      <td>11.2</td>\n",
       "    </tr>\n",
       "    <tr>\n",
       "      <th>1596</th>\n",
       "      <td>6</td>\n",
       "      <td>11.0</td>\n",
       "    </tr>\n",
       "    <tr>\n",
       "      <th>1598</th>\n",
       "      <td>6</td>\n",
       "      <td>11.0</td>\n",
       "    </tr>\n",
       "  </tbody>\n",
       "</table>\n",
       "<p>855 rows × 2 columns</p>\n",
       "</div>"
      ],
      "text/plain": [
       "      quality  alcohol\n",
       "3           6      9.8\n",
       "7           7     10.0\n",
       "8           7      9.5\n",
       "16          7     10.5\n",
       "19          6      9.2\n",
       "...       ...      ...\n",
       "1592        6     11.0\n",
       "1593        6      9.5\n",
       "1595        6     11.2\n",
       "1596        6     11.0\n",
       "1598        6     11.0\n",
       "\n",
       "[855 rows x 2 columns]"
      ]
     },
     "execution_count": 8,
     "metadata": {},
     "output_type": "execute_result"
    }
   ],
   "source": [
    "# Create two independent samples based on wine quality rating\n",
    "high_quality = df[df['quality'] >= df.quality.median()][[\"quality\", \"alcohol\"]]\n",
    "high_quality\n"
   ]
  },
  {
   "cell_type": "code",
   "execution_count": 9,
   "id": "80648b76",
   "metadata": {
    "scrolled": true
   },
   "outputs": [
    {
     "data": {
      "text/html": [
       "<div>\n",
       "<style scoped>\n",
       "    .dataframe tbody tr th:only-of-type {\n",
       "        vertical-align: middle;\n",
       "    }\n",
       "\n",
       "    .dataframe tbody tr th {\n",
       "        vertical-align: top;\n",
       "    }\n",
       "\n",
       "    .dataframe thead th {\n",
       "        text-align: right;\n",
       "    }\n",
       "</style>\n",
       "<table border=\"1\" class=\"dataframe\">\n",
       "  <thead>\n",
       "    <tr style=\"text-align: right;\">\n",
       "      <th></th>\n",
       "      <th>quality</th>\n",
       "      <th>alcohol</th>\n",
       "    </tr>\n",
       "  </thead>\n",
       "  <tbody>\n",
       "    <tr>\n",
       "      <th>0</th>\n",
       "      <td>5</td>\n",
       "      <td>9.4</td>\n",
       "    </tr>\n",
       "    <tr>\n",
       "      <th>1</th>\n",
       "      <td>5</td>\n",
       "      <td>9.8</td>\n",
       "    </tr>\n",
       "    <tr>\n",
       "      <th>2</th>\n",
       "      <td>5</td>\n",
       "      <td>9.8</td>\n",
       "    </tr>\n",
       "    <tr>\n",
       "      <th>4</th>\n",
       "      <td>5</td>\n",
       "      <td>9.4</td>\n",
       "    </tr>\n",
       "    <tr>\n",
       "      <th>5</th>\n",
       "      <td>5</td>\n",
       "      <td>9.4</td>\n",
       "    </tr>\n",
       "    <tr>\n",
       "      <th>...</th>\n",
       "      <td>...</td>\n",
       "      <td>...</td>\n",
       "    </tr>\n",
       "    <tr>\n",
       "      <th>1582</th>\n",
       "      <td>5</td>\n",
       "      <td>11.9</td>\n",
       "    </tr>\n",
       "    <tr>\n",
       "      <th>1583</th>\n",
       "      <td>5</td>\n",
       "      <td>9.8</td>\n",
       "    </tr>\n",
       "    <tr>\n",
       "      <th>1589</th>\n",
       "      <td>5</td>\n",
       "      <td>9.2</td>\n",
       "    </tr>\n",
       "    <tr>\n",
       "      <th>1594</th>\n",
       "      <td>5</td>\n",
       "      <td>10.5</td>\n",
       "    </tr>\n",
       "    <tr>\n",
       "      <th>1597</th>\n",
       "      <td>5</td>\n",
       "      <td>10.2</td>\n",
       "    </tr>\n",
       "  </tbody>\n",
       "</table>\n",
       "<p>744 rows × 2 columns</p>\n",
       "</div>"
      ],
      "text/plain": [
       "      quality  alcohol\n",
       "0           5      9.4\n",
       "1           5      9.8\n",
       "2           5      9.8\n",
       "4           5      9.4\n",
       "5           5      9.4\n",
       "...       ...      ...\n",
       "1582        5     11.9\n",
       "1583        5      9.8\n",
       "1589        5      9.2\n",
       "1594        5     10.5\n",
       "1597        5     10.2\n",
       "\n",
       "[744 rows x 2 columns]"
      ]
     },
     "execution_count": 9,
     "metadata": {},
     "output_type": "execute_result"
    }
   ],
   "source": [
    "low_quality = df[df['quality'] < df.quality.median()][[\"quality\", \"alcohol\"]]\n",
    "low_quality"
   ]
  },
  {
   "cell_type": "markdown",
   "id": "6ccb2fd4",
   "metadata": {},
   "source": [
    "# Bartlett's Test with Scipy"
   ]
  },
  {
   "cell_type": "code",
   "execution_count": 10,
   "id": "341367bb",
   "metadata": {},
   "outputs": [
    {
     "name": "stdout",
     "output_type": "stream",
     "text": [
      "108.97241772227592 1.6455993254214175e-25\n"
     ]
    }
   ],
   "source": [
    "# import bartletts test \n",
    "from scipy.stats import bartlett\n",
    "\n",
    "# subsetting the data \n",
    "high_quality_len = high_quality[\"alcohol\"] \n",
    "low_quality_len = low_quality[\"alcohol\"]\n",
    "\n",
    "# bartlett's test \n",
    "stat, p = bartlett(high_quality_len, low_quality_len)\n",
    "\n",
    "# display the results \n",
    "print(stat, p)"
   ]
  },
  {
   "cell_type": "code",
   "execution_count": 11,
   "id": "f999aaaf",
   "metadata": {},
   "outputs": [],
   "source": [
    "#At significance level of 0.05, the p-value is less than 0.05,\n",
    "#therefore, we reject the null hypothesis and conclude that the two groups don't have an equal variances."
   ]
  },
  {
   "cell_type": "code",
   "execution_count": 12,
   "id": "9a9b9821",
   "metadata": {},
   "outputs": [
    {
     "name": "stdout",
     "output_type": "stream",
     "text": [
      "Requirement already satisfied: pingouin in c:\\users\\admin\\anaconda31\\lib\\site-packages (0.5.3)\n",
      "Requirement already satisfied: pandas>=1.0 in c:\\users\\admin\\anaconda31\\lib\\site-packages (from pingouin) (1.4.4)\n",
      "Requirement already satisfied: matplotlib>=3.0.2 in c:\\users\\admin\\anaconda31\\lib\\site-packages (from pingouin) (3.5.2)\n",
      "Requirement already satisfied: tabulate in c:\\users\\admin\\anaconda31\\lib\\site-packages (from pingouin) (0.8.10)\n",
      "Requirement already satisfied: pandas-flavor>=0.2.0 in c:\\users\\admin\\anaconda31\\lib\\site-packages (from pingouin) (0.5.0)\n",
      "Requirement already satisfied: outdated in c:\\users\\admin\\anaconda31\\lib\\site-packages (from pingouin) (0.2.2)\n",
      "Requirement already satisfied: statsmodels>=0.13 in c:\\users\\admin\\anaconda31\\lib\\site-packages (from pingouin) (0.13.2)\n",
      "Requirement already satisfied: seaborn>=0.11 in c:\\users\\admin\\anaconda31\\lib\\site-packages (from pingouin) (0.11.2)\n",
      "Requirement already satisfied: scikit-learn in c:\\users\\admin\\anaconda31\\lib\\site-packages (from pingouin) (1.0.2)\n",
      "Requirement already satisfied: scipy>=1.7 in c:\\users\\admin\\anaconda31\\lib\\site-packages (from pingouin) (1.9.1)\n",
      "Requirement already satisfied: numpy>=1.19 in c:\\users\\admin\\anaconda31\\lib\\site-packages (from pingouin) (1.21.5)\n",
      "Requirement already satisfied: fonttools>=4.22.0 in c:\\users\\admin\\anaconda31\\lib\\site-packages (from matplotlib>=3.0.2->pingouin) (4.25.0)\n",
      "Requirement already satisfied: packaging>=20.0 in c:\\users\\admin\\anaconda31\\lib\\site-packages (from matplotlib>=3.0.2->pingouin) (21.3)\n",
      "Requirement already satisfied: cycler>=0.10 in c:\\users\\admin\\anaconda31\\lib\\site-packages (from matplotlib>=3.0.2->pingouin) (0.11.0)\n",
      "Requirement already satisfied: pyparsing>=2.2.1 in c:\\users\\admin\\anaconda31\\lib\\site-packages (from matplotlib>=3.0.2->pingouin) (3.0.9)\n",
      "Requirement already satisfied: python-dateutil>=2.7 in c:\\users\\admin\\anaconda31\\lib\\site-packages (from matplotlib>=3.0.2->pingouin) (2.8.2)\n",
      "Requirement already satisfied: kiwisolver>=1.0.1 in c:\\users\\admin\\anaconda31\\lib\\site-packages (from matplotlib>=3.0.2->pingouin) (1.4.2)\n",
      "Requirement already satisfied: pillow>=6.2.0 in c:\\users\\admin\\anaconda31\\lib\\site-packages (from matplotlib>=3.0.2->pingouin) (9.2.0)\n",
      "Requirement already satisfied: pytz>=2020.1 in c:\\users\\admin\\anaconda31\\lib\\site-packages (from pandas>=1.0->pingouin) (2022.1)\n",
      "Requirement already satisfied: lazy-loader>=0.1 in c:\\users\\admin\\anaconda31\\lib\\site-packages (from pandas-flavor>=0.2.0->pingouin) (0.2)\n",
      "Requirement already satisfied: xarray in c:\\users\\admin\\anaconda31\\lib\\site-packages (from pandas-flavor>=0.2.0->pingouin) (0.20.1)\n",
      "Requirement already satisfied: patsy>=0.5.2 in c:\\users\\admin\\anaconda31\\lib\\site-packages (from statsmodels>=0.13->pingouin) (0.5.2)\n",
      "Requirement already satisfied: requests in c:\\users\\admin\\anaconda31\\lib\\site-packages (from outdated->pingouin) (2.28.1)\n",
      "Requirement already satisfied: littleutils in c:\\users\\admin\\anaconda31\\lib\\site-packages (from outdated->pingouin) (0.2.2)\n",
      "Requirement already satisfied: setuptools>=44 in c:\\users\\admin\\anaconda31\\lib\\site-packages (from outdated->pingouin) (63.4.1)\n",
      "Requirement already satisfied: threadpoolctl>=2.0.0 in c:\\users\\admin\\anaconda31\\lib\\site-packages (from scikit-learn->pingouin) (2.2.0)\n",
      "Requirement already satisfied: joblib>=0.11 in c:\\users\\admin\\anaconda31\\lib\\site-packages (from scikit-learn->pingouin) (1.1.0)\n",
      "Requirement already satisfied: six in c:\\users\\admin\\anaconda31\\lib\\site-packages (from patsy>=0.5.2->statsmodels>=0.13->pingouin) (1.16.0)\n",
      "Requirement already satisfied: idna<4,>=2.5 in c:\\users\\admin\\anaconda31\\lib\\site-packages (from requests->outdated->pingouin) (3.3)\n",
      "Requirement already satisfied: certifi>=2017.4.17 in c:\\users\\admin\\anaconda31\\lib\\site-packages (from requests->outdated->pingouin) (2022.9.14)\n",
      "Requirement already satisfied: charset-normalizer<3,>=2 in c:\\users\\admin\\anaconda31\\lib\\site-packages (from requests->outdated->pingouin) (2.0.4)\n",
      "Requirement already satisfied: urllib3<1.27,>=1.21.1 in c:\\users\\admin\\anaconda31\\lib\\site-packages (from requests->outdated->pingouin) (1.26.11)\n"
     ]
    }
   ],
   "source": [
    "!pip install pingouin "
   ]
  },
  {
   "cell_type": "code",
   "execution_count": 13,
   "id": "5f66160b",
   "metadata": {
    "scrolled": true
   },
   "outputs": [
    {
     "data": {
      "text/html": [
       "<div>\n",
       "<style scoped>\n",
       "    .dataframe tbody tr th:only-of-type {\n",
       "        vertical-align: middle;\n",
       "    }\n",
       "\n",
       "    .dataframe tbody tr th {\n",
       "        vertical-align: top;\n",
       "    }\n",
       "\n",
       "    .dataframe thead th {\n",
       "        text-align: right;\n",
       "    }\n",
       "</style>\n",
       "<table border=\"1\" class=\"dataframe\">\n",
       "  <thead>\n",
       "    <tr style=\"text-align: right;\">\n",
       "      <th></th>\n",
       "      <th>T</th>\n",
       "      <th>pval</th>\n",
       "      <th>equal_var</th>\n",
       "    </tr>\n",
       "  </thead>\n",
       "  <tbody>\n",
       "    <tr>\n",
       "      <th>bartlett</th>\n",
       "      <td>85.742952</td>\n",
       "      <td>5.258666e-17</td>\n",
       "      <td>False</td>\n",
       "    </tr>\n",
       "  </tbody>\n",
       "</table>\n",
       "</div>"
      ],
      "text/plain": [
       "                  T          pval  equal_var\n",
       "bartlett  85.742952  5.258666e-17      False"
      ]
     },
     "execution_count": 13,
     "metadata": {},
     "output_type": "execute_result"
    }
   ],
   "source": [
    "\n",
    "import pingouin as pg\n",
    "\n",
    "# bartlett's test with pingouin\n",
    "pg.homoscedasticity(df, dv=\"alcohol\",group = \"quality\", method=\"bartlett\")"
   ]
  },
  {
   "cell_type": "markdown",
   "id": "9f72ebc7",
   "metadata": {},
   "source": [
    "# Levene's Test"
   ]
  },
  {
   "cell_type": "code",
   "execution_count": 14,
   "id": "bd108c1c",
   "metadata": {},
   "outputs": [
    {
     "name": "stdout",
     "output_type": "stream",
     "text": [
      "144.38822309107505 6.634133079155582e-32\n"
     ]
    }
   ],
   "source": [
    "# import levene test \n",
    "from scipy.stats import levene\n",
    "\n",
    "# levene's test \n",
    "stat, p = levene(high_quality[\"alcohol\"], low_quality[\"alcohol\"])\n",
    "\n",
    "# display the results \n",
    "print(stat, p)"
   ]
  },
  {
   "cell_type": "markdown",
   "id": "ae3a70a5",
   "metadata": {},
   "source": [
    "We reject the null hypothesis because the p-value is less than 0.05, meaning there is no homogenity of variance"
   ]
  },
  {
   "cell_type": "code",
   "execution_count": 15,
   "id": "a4d69dc3",
   "metadata": {},
   "outputs": [
    {
     "data": {
      "text/html": [
       "<div>\n",
       "<style scoped>\n",
       "    .dataframe tbody tr th:only-of-type {\n",
       "        vertical-align: middle;\n",
       "    }\n",
       "\n",
       "    .dataframe tbody tr th {\n",
       "        vertical-align: top;\n",
       "    }\n",
       "\n",
       "    .dataframe thead th {\n",
       "        text-align: right;\n",
       "    }\n",
       "</style>\n",
       "<table border=\"1\" class=\"dataframe\">\n",
       "  <thead>\n",
       "    <tr style=\"text-align: right;\">\n",
       "      <th></th>\n",
       "      <th>W</th>\n",
       "      <th>pval</th>\n",
       "      <th>equal_var</th>\n",
       "    </tr>\n",
       "  </thead>\n",
       "  <tbody>\n",
       "    <tr>\n",
       "      <th>levene</th>\n",
       "      <td>2.078233</td>\n",
       "      <td>0.000002</td>\n",
       "      <td>False</td>\n",
       "    </tr>\n",
       "  </tbody>\n",
       "</table>\n",
       "</div>"
      ],
      "text/plain": [
       "               W      pval  equal_var\n",
       "levene  2.078233  0.000002      False"
      ]
     },
     "execution_count": 15,
     "metadata": {},
     "output_type": "execute_result"
    }
   ],
   "source": [
    "# levene's test with pingouin\n",
    "pg.homoscedasticity(df, dv=\"quality\",group = \"alcohol\", method=\"levene\")"
   ]
  },
  {
   "cell_type": "markdown",
   "id": "6cc2f0d5",
   "metadata": {},
   "source": [
    "Test the assumption of normality, we can use visuals ie histogram/q-qplot and the Shapiro-Wilk"
   ]
  },
  {
   "cell_type": "code",
   "execution_count": 16,
   "id": "e22960ad",
   "metadata": {},
   "outputs": [
    {
     "data": {
      "text/plain": [
       "<AxesSubplot:xlabel='alcohol', ylabel='Count'>"
      ]
     },
     "execution_count": 16,
     "metadata": {},
     "output_type": "execute_result"
    },
    {
     "data": {
      "image/png": "[encoded data removed]",
      "text/plain": [
       "<Figure size 640x480 with 1 Axes>"
      ]
     },
     "metadata": {},
     "output_type": "display_data"
    }
   ],
   "source": [
    "sns.histplot(data=high_quality, x=\"alcohol\", kde=True)"
   ]
  },
  {
   "cell_type": "code",
   "execution_count": 17,
   "id": "fdfccb8c",
   "metadata": {},
   "outputs": [
    {
     "data": {
      "text/plain": [
       "<AxesSubplot:xlabel='alcohol', ylabel='Count'>"
      ]
     },
     "execution_count": 17,
     "metadata": {},
     "output_type": "execute_result"
    },
    {
     "data": {
      "image/png": "[encoded data removed]",
      "text/plain": [
       "<Figure size 640x480 with 1 Axes>"
      ]
     },
     "metadata": {},
     "output_type": "display_data"
    }
   ],
   "source": [
    "sns.histplot(data=low_quality, x=\"alcohol\", kde=True)"
   ]
  },
  {
   "cell_type": "code",
   "execution_count": 18,
   "id": "edb52f4a",
   "metadata": {},
   "outputs": [
    {
     "data": {
      "text/plain": [
       "<AxesSubplot:xlabel='alcohol', ylabel='Count'>"
      ]
     },
     "execution_count": 18,
     "metadata": {},
     "output_type": "execute_result"
    },
    {
     "data": {
      "image/png": "[encoded data removed]",
      "text/plain": [
       "<Figure size 640x480 with 1 Axes>"
      ]
     },
     "metadata": {},
     "output_type": "display_data"
    }
   ],
   "source": [
    "sns.histplot(data=df, x=\"alcohol\", hue = \"quality\", element=\"poly\")\n"
   ]
  },
  {
   "cell_type": "code",
   "execution_count": 19,
   "id": "b6acb511",
   "metadata": {},
   "outputs": [
    {
     "data": {
      "image/png": "[encoded data removed]",
      "text/plain": [
       "<Figure size 640x480 with 1 Axes>"
      ]
     },
     "metadata": {},
     "output_type": "display_data"
    }
   ],
   "source": [
    "st.probplot(high_quality[\"alcohol\"], dist=\"norm\", plot=plt)\n",
    "plt.title(\"High Quality Q-Q Plot\")\n",
    "plt.show()"
   ]
  },
  {
   "cell_type": "code",
   "execution_count": 20,
   "id": "588e06cc",
   "metadata": {},
   "outputs": [
    {
     "data": {
      "image/png": "[encoded data removed]",
      "text/plain": [
       "<Figure size 640x480 with 1 Axes>"
      ]
     },
     "metadata": {},
     "output_type": "display_data"
    }
   ],
   "source": [
    "st.probplot(low_quality['alcohol'], dist = 'norm', plot = plt)\n",
    "plt.title(\"Low Quality QQ Plot\")\n",
    "plt.show()"
   ]
  },
  {
   "cell_type": "markdown",
   "id": "10585cb4",
   "metadata": {},
   "source": [
    "The data should be on the red line, there are data points that are far off it, it's an indication that there are some deviations from Normality.\n",
    "In both the plots, there is deviation from normality "
   ]
  },
  {
   "cell_type": "code",
   "execution_count": 21,
   "id": "bd89d861",
   "metadata": {},
   "outputs": [
    {
     "data": {
      "text/plain": [
       "0.9786283373832703"
      ]
     },
     "metadata": {},
     "output_type": "display_data"
    },
    {
     "data": {
      "text/plain": [
       "7.282434100197577e-10"
      ]
     },
     "metadata": {},
     "output_type": "display_data"
    }
   ],
   "source": [
    "# shapiro test on high quality\n",
    "\n",
    "stat, p = st.shapiro(high_quality[\"alcohol\"])\n",
    "\n",
    "# display the results \n",
    "display(stat, p)"
   ]
  },
  {
   "cell_type": "code",
   "execution_count": 22,
   "id": "32c1b559",
   "metadata": {},
   "outputs": [
    {
     "data": {
      "text/plain": [
       "0.8589915633201599"
      ]
     },
     "metadata": {},
     "output_type": "display_data"
    },
    {
     "data": {
      "text/plain": [
       "2.869534297814467e-25"
      ]
     },
     "metadata": {},
     "output_type": "display_data"
    }
   ],
   "source": [
    "stat, p = st.shapiro(low_quality[\"alcohol\"])\n",
    "\n",
    "# display the results \n",
    "display(stat, p)"
   ]
  },
  {
   "cell_type": "code",
   "execution_count": 23,
   "id": "697db2d2",
   "metadata": {},
   "outputs": [
    {
     "data": {
      "text/plain": [
       "19.292349918694175"
      ]
     },
     "metadata": {},
     "output_type": "display_data"
    },
    {
     "data": {
      "text/plain": [
       "1.0239802386368774e-74"
      ]
     },
     "metadata": {},
     "output_type": "display_data"
    }
   ],
   "source": [
    "# conduct the t-test\n",
    "stat, p = st.ttest_ind(high_quality[\"alcohol\"], low_quality[\"alcohol\"])\n",
    "\n",
    "# display the results\n",
    "display(stat, p)"
   ]
  },
  {
   "cell_type": "markdown",
   "id": "629f6094",
   "metadata": {},
   "source": [
    "The independent t-test results are significant and therefore we reject the null hypothesis."
   ]
  },
  {
   "cell_type": "markdown",
   "id": "8479176c",
   "metadata": {},
   "source": [
    "# Mann-whitney Test"
   ]
  },
  {
   "cell_type": "markdown",
   "id": "8de26702",
   "metadata": {},
   "source": [
    "The tests for assumptions of a t-test have not been satisfied since the variances are not equal, the data is not normal,\n",
    "the data is not independent and therefore the t-test produces inaccurate results. Therefore, we proceed to perform the Mann-Whitney Test to compare the median for two samples which are not normally distributed."
   ]
  },
  {
   "cell_type": "code",
   "execution_count": 24,
   "id": "12da5cd2",
   "metadata": {},
   "outputs": [
    {
     "name": "stdout",
     "output_type": "stream",
     "text": [
      "Mann-Whitney U statistic: [636120. 481313.]\n",
      "p-value: [1.62383349e-304 2.00605933e-070]\n"
     ]
    }
   ],
   "source": [
    "from scipy.stats import mannwhitneyu\n",
    "\n",
    "# Perform Mann-Whitney U test to compare the median alcohol content of the two samples\n",
    "stat, p = mannwhitneyu(high_quality, low_quality)\n",
    "\n",
    "# Display the test statistic and p-value\n",
    "print('Mann-Whitney U statistic:', stat)\n",
    "print('p-value:', p)\n"
   ]
  },
  {
   "cell_type": "markdown",
   "id": "a422468f",
   "metadata": {},
   "source": [
    "Since the p-value is less than 0.05, we reject the null hypothesis and conclude that the median alcohol content of wines with higher quality ratings is greater than median alcohol content of wines with lower quality ratings."
   ]
  }
 ],
 "metadata": {
  "kernelspec": {
   "display_name": "Python 3 (ipykernel)",
   "language": "python",
   "name": "python3"
  },
  "language_info": {
   "codemirror_mode": {
    "name": "ipython",
    "version": 3
   },
   "file_extension": ".py",
   "mimetype": "text/x-python",
   "name": "python",
   "nbconvert_exporter": "python",
   "pygments_lexer": "ipython3",
   "version": "3.9.13"
  }
 },
 "nbformat": 4,
 "nbformat_minor": 5
}
